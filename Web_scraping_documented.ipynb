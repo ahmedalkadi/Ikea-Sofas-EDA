{
  "cells": [
    {
      "cell_type": "markdown",
      "metadata": {
        "id": "view-in-github",
        "colab_type": "text"
      },
      "source": [
        "<a href=\"https://colab.research.google.com/github/alaa-shehab/Ikea-Sofas-EDA/blob/main/Notebooks/Web_scraping_documented.ipynb\" target=\"_parent\"><img src=\"https://colab.research.google.com/assets/colab-badge.svg\" alt=\"Open In Colab\"/></a>"
      ]
    },
    {
      "cell_type": "markdown",
      "id": "d8bf6b53",
      "metadata": {
        "id": "d8bf6b53"
      },
      "source": [
        "![My Image](Ikea_logo.png)"
      ]
    },
    {
      "cell_type": "markdown",
      "id": "d009b425",
      "metadata": {
        "id": "d009b425"
      },
      "source": [
        "# EDA on Ikea Sofa Types Dataset"
      ]
    },
    {
      "cell_type": "markdown",
      "id": "6ae1d912",
      "metadata": {
        "id": "6ae1d912"
      },
      "source": [
        "### About this Dataset:\n",
        "In this project, we are scraping data from ikea's sofa types webpages which are:<br>\n",
        "- Sofa bed<br>\n",
        "- Chaise Longue<br>\n",
        "- Modular<br>\n",
        "- Leather<br>\n",
        "- Fabric<br>\n",
        "to get insights about sofas' price and its relations with other columns.<br>"
      ]
    },
    {
      "cell_type": "markdown",
      "id": "5ea8f9da",
      "metadata": {
        "id": "5ea8f9da"
      },
      "source": [
        "### Attributes<br>\n",
        "- Name: Sofas' Names<br>\n",
        "- Type: Types of Sofas<br>\n",
        "- Number_of_Seats: Number of seats in each sofa<br>\n",
        "- Colour: Colour of each sofa<br>\n",
        "- Price: Price of the sofa according to colour and number of seats<br>\n",
        "- Material: Material of the sofa<br>\n",
        "- Others: Washable cover or not<br>\n",
        "<br>\n"
      ]
    },
    {
      "cell_type": "markdown",
      "id": "5bcbac8a",
      "metadata": {
        "id": "5bcbac8a"
      },
      "source": [
        "### Performing Data Cleaning and Visualisation with the below listed libraries/tools:-\n",
        "- Pandas\n",
        "- Numpy\n",
        "- Matplotlib\n",
        "- Seaborn\n",
        "- selenium"
      ]
    },
    {
      "cell_type": "markdown",
      "id": "417de65b",
      "metadata": {
        "id": "417de65b"
      },
      "source": [
        "### Importing Used Libraries"
      ]
    },
    {
      "cell_type": "code",
      "execution_count": null,
      "id": "1f9cb209",
      "metadata": {
        "id": "1f9cb209"
      },
      "outputs": [],
      "source": [
        "import pandas as pd\n",
        "import numpy as np\n",
        "from selenium import webdriver\n",
        "from selenium.webdriver.chrome.options import Options"
      ]
    },
    {
      "cell_type": "markdown",
      "id": "302e31aa",
      "metadata": {
        "id": "302e31aa"
      },
      "source": [
        "### Step 1: Web Scraping for the products' links"
      ]
    },
    {
      "cell_type": "code",
      "execution_count": null,
      "id": "f4ef8f17",
      "metadata": {
        "id": "f4ef8f17"
      },
      "outputs": [],
      "source": [
        "# links to be scraped for each category\n",
        "fur_typ=[\"https://www.ikea.com/eg/en/cat/fabric-sofas-10661/?page=17\"\n",
        "        ,\"https://www.ikea.com/eg/en/cat/leather-coated-fabric-sofas-10662/?page=2\"\n",
        "        ,\"https://www.ikea.com/eg/en/cat/modular-sofas-16238/?page=8\"\n",
        "        ,\"https://www.ikea.com/eg/en/cat/sofa-beds-10663/?page=7\"\n",
        "        ,\"https://www.ikea.com/eg/en/cat/chaise-longues-57527/?page=3\"\n",
        "        ]"
      ]
    },
    {
      "cell_type": "code",
      "execution_count": null,
      "id": "bb1f98de",
      "metadata": {
        "id": "bb1f98de"
      },
      "outputs": [],
      "source": [
        "# to stop the live web scraping and work in the background\n",
        "chrome_options = Options()\n",
        "chrome_options.add_argument(\"--headless\")\n",
        "driver = webdriver.Chrome(options = chrome_options)\n",
        "\n",
        "# links_arr contains all the links of the main page\n",
        "links_arr = []\n",
        "\n",
        "for i in range(len(fur_typ)):\n",
        "  try:\n",
        "    driver = webdriver.Chrome()\n",
        "    driver.get(fur_typ[i])\n",
        "    links = driver.find_elements(\"xpath\",\"//div[@class='plp-mastercard__item plp-mastercard__image']/a\")\n",
        "\n",
        "    for i in links:\n",
        "        links_arr.append(i.get_attribute(\"href\"))\n",
        "  except Exception as e:\n",
        "    print(e)\n"
      ]
    },
    {
      "cell_type": "code",
      "execution_count": null,
      "id": "8a39feff",
      "metadata": {
        "id": "8a39feff",
        "outputId": "6c86e76f-f2f2-403c-9b08-8f3639f5aeda"
      },
      "outputs": [
        {
          "data": {
            "text/plain": [
              "36"
            ]
          },
          "execution_count": 51,
          "metadata": {},
          "output_type": "execute_result"
        }
      ],
      "source": [
        "len(links_arr)"
      ]
    },
    {
      "cell_type": "code",
      "execution_count": null,
      "id": "f1312745",
      "metadata": {
        "scrolled": true,
        "id": "f1312745"
      },
      "outputs": [],
      "source": [
        "# Create Chrome options\n",
        "chrome_options = Options()\n",
        "chrome_options.add_argument(\"--disable-images\")\n",
        "\n",
        "# Create a new instance of the Chrome driver with options\n",
        "driver = webdriver.Chrome(options=chrome_options)\n",
        "\n",
        "# links_sub_arr contains all the links of the sub page.\n",
        "links_sub_arr=[]\n",
        "\n",
        "for ii in range(len(links_arr)):\n",
        "  try:\n",
        "    driver.get(links_arr[ii])\n",
        "    links_sub = driver.find_elements(\"xpath\",\"//div[@class='pip-product-styles__items']/a\")\n",
        "\n",
        "    for i in links_sub:\n",
        "        links_sub_arr.append(i.get_attribute(\"href\"))\n",
        "  except Exception as e:\n",
        "    print(e)\n"
      ]
    },
    {
      "cell_type": "code",
      "execution_count": null,
      "id": "664d9de5",
      "metadata": {
        "id": "664d9de5",
        "outputId": "dab5921b-157f-4d0c-e24e-167394e2519f"
      },
      "outputs": [
        {
          "data": {
            "text/plain": [
              "92"
            ]
          },
          "execution_count": 53,
          "metadata": {},
          "output_type": "execute_result"
        }
      ],
      "source": [
        "len(links_sub_arr)"
      ]
    },
    {
      "cell_type": "markdown",
      "id": "e44bed24",
      "metadata": {
        "id": "e44bed24"
      },
      "source": [
        "### Step 2: Getting the Elements from the sub page using Xpath"
      ]
    },
    {
      "cell_type": "code",
      "execution_count": null,
      "id": "40ba449d",
      "metadata": {
        "id": "40ba449d"
      },
      "outputs": [],
      "source": [
        "\n",
        "sofa_name = '//span[@class=\"pip-header-section__title--big notranslate\"]'\n",
        "sofa_details = '//h1/div/div/span/span[@class=\"pip-header-section__description-text\"]'\n",
        "sofa_price ='//div/div/div/div/div/span/span/span/span[@class=\"pip-temp-price__integer\"]'\n",
        "sofa_material ='//span[@class=\"pip-key-facts__type\"]'\n",
        "\n",
        "field = [sofa_name, sofa_details, sofa_price, sofa_material]\n"
      ]
    },
    {
      "cell_type": "code",
      "execution_count": null,
      "id": "56d08569",
      "metadata": {
        "id": "56d08569"
      },
      "outputs": [],
      "source": [
        "# links_sub_data contains all the data of the sub page\n",
        "links_sub_data = []\n",
        "\n",
        "for i in range(len(links_sub_arr)):\n",
        "  try:\n",
        "    driver.get(links_sub_arr[i])\n",
        "\n",
        "    # row contains all the data of the sub page\n",
        "    row = []\n",
        "\n",
        "    for j in field:\n",
        "        elements = driver.find_elements(\"xpath\", j)\n",
        "        for element in elements:\n",
        "            row.append(element.text)\n",
        "  except Exception as e:\n",
        "    print(e)\n",
        "\n",
        "  links_sub_data.append(row)\n",
        ""
      ]
    },
    {
      "cell_type": "code",
      "execution_count": null,
      "id": "90554cf6",
      "metadata": {
        "id": "90554cf6",
        "outputId": "1404ebaa-ca40-4fcd-e313-2068213f3e6a"
      },
      "outputs": [
        {
          "data": {
            "text/plain": [
              "[['ÄLVDALEN', '3-seat sofa-bed, Knisa dark grey', '18,995'],\n",
              " ['FRIHETEN', 'Corner sofa-bed with storage, Bomstad black', '28,795', 'Firm'],\n",
              " ['FRIHETEN', 'Corner sofa-bed with storage, Skiftebo blue', '25,695', 'Firm'],\n",
              " ['BÅRSLÖV',\n",
              "  '3-seat sofa-bed with chaise longue, Tibbleby light grey-turquoise',\n",
              "  '34,995'],\n",
              " ['GRÖNLID',\n",
              "  'Crnr sofa-bed, 5-seat w chaise lng, Inseros white',\n",
              "  '107,075',\n",
              "  'Extra soft',\n",
              "  'Washable cover'],\n",
              " ['GRÖNLID',\n",
              "  'Crnr sofa-bed, 5-seat w chaise lng, Ljungen light green',\n",
              "  '111,675',\n",
              "  'Extra soft',\n",
              "  'Washable cover'],\n",
              " ['GRÖNLID',\n",
              "  'Crnr sofa-bed, 5-seat w chaise lng, Ljungen light red',\n",
              "  '110,875',\n",
              "  'Extra soft',\n",
              "  'Washable cover'],\n",
              " ['GRÖNLID',\n",
              "  'Crnr sofa-bed, 5-seat w chaise lng, Ljungen medium grey',\n",
              "  '111,675',\n",
              "  'Extra soft',\n",
              "  'Washable cover']]"
            ]
          },
          "execution_count": 122,
          "metadata": {},
          "output_type": "execute_result"
        }
      ],
      "source": [
        "links_sub_data"
      ]
    },
    {
      "cell_type": "markdown",
      "id": "c416e294",
      "metadata": {
        "id": "c416e294"
      },
      "source": [
        "### Step 3: Saving the data in csv format"
      ]
    },
    {
      "cell_type": "code",
      "execution_count": null,
      "id": "2fddf086",
      "metadata": {
        "id": "2fddf086"
      },
      "outputs": [],
      "source": [
        "# to save data in columns\n",
        "col1 = []\n",
        "for x in links_sub_data:\n",
        "    col1.append(x[0])\n",
        "\n",
        "col2 = []\n",
        "for x in links_sub_data:\n",
        "    col2.append(x[1])\n",
        "\n",
        "col3 = []\n",
        "for x in links_sub_data:\n",
        "    col3.append(int(x[2].replace(',', '')))\n",
        "\n",
        "col4 = []\n",
        "for x in links_sub_data:\n",
        "    if len(x) > 3:\n",
        "        col4.append(x[3])\n",
        "    else:\n",
        "        col4.append(np.nan)\n",
        "\n",
        "col5 = []\n",
        "for x in links_sub_data:\n",
        "    if len(x) > 4:\n",
        "        col5.append(x[4])\n",
        "    else:\n",
        "        col5.append(np.nan)\n",
        "\n",
        "# to put the data in dataframe\n",
        "df = pd.DataFrame({'name': col1, 'details': col2, 'price': col3,'material': col4,'others': col5})\n",
        "\n",
        "# to save data in csv\n",
        "df.to_csv(\"data.csv\")\n",
        "\n"
      ]
    },
    {
      "cell_type": "code",
      "execution_count": null,
      "id": "38de3d28",
      "metadata": {
        "scrolled": true,
        "id": "38de3d28",
        "outputId": "1d4b78e3-96ec-43d9-c5d3-4ffe79ab63ec"
      },
      "outputs": [
        {
          "data": {
            "text/html": [
              "<div>\n",
              "<style scoped>\n",
              "    .dataframe tbody tr th:only-of-type {\n",
              "        vertical-align: middle;\n",
              "    }\n",
              "\n",
              "    .dataframe tbody tr th {\n",
              "        vertical-align: top;\n",
              "    }\n",
              "\n",
              "    .dataframe thead th {\n",
              "        text-align: right;\n",
              "    }\n",
              "</style>\n",
              "<table border=\"1\" class=\"dataframe\">\n",
              "  <thead>\n",
              "    <tr style=\"text-align: right;\">\n",
              "      <th></th>\n",
              "      <th>name</th>\n",
              "      <th>details</th>\n",
              "      <th>price</th>\n",
              "      <th>material</th>\n",
              "    </tr>\n",
              "  </thead>\n",
              "  <tbody>\n",
              "    <tr>\n",
              "      <th>0</th>\n",
              "      <td>ÄLVDALEN</td>\n",
              "      <td>3-seat sofa-bed, Knisa dark grey</td>\n",
              "      <td>18,995</td>\n",
              "      <td>NaN</td>\n",
              "    </tr>\n",
              "    <tr>\n",
              "      <th>1</th>\n",
              "      <td>FRIHETEN</td>\n",
              "      <td>Corner sofa-bed with storage, Bomstad black</td>\n",
              "      <td>28,795</td>\n",
              "      <td>Firm</td>\n",
              "    </tr>\n",
              "    <tr>\n",
              "      <th>2</th>\n",
              "      <td>FRIHETEN</td>\n",
              "      <td>Corner sofa-bed with storage, Skiftebo blue</td>\n",
              "      <td>25,695</td>\n",
              "      <td>Firm</td>\n",
              "    </tr>\n",
              "    <tr>\n",
              "      <th>3</th>\n",
              "      <td>BÅRSLÖV</td>\n",
              "      <td>3-seat sofa-bed with chaise longue, Tibbleby l...</td>\n",
              "      <td>34,995</td>\n",
              "      <td>NaN</td>\n",
              "    </tr>\n",
              "    <tr>\n",
              "      <th>4</th>\n",
              "      <td>GRÖNLID</td>\n",
              "      <td>Crnr sofa-bed, 5-seat w chaise lng, Inseros white</td>\n",
              "      <td>107,075</td>\n",
              "      <td>Extra soft</td>\n",
              "    </tr>\n",
              "    <tr>\n",
              "      <th>5</th>\n",
              "      <td>GRÖNLID</td>\n",
              "      <td>Crnr sofa-bed, 5-seat w chaise lng, Ljungen li...</td>\n",
              "      <td>111,675</td>\n",
              "      <td>Extra soft</td>\n",
              "    </tr>\n",
              "    <tr>\n",
              "      <th>6</th>\n",
              "      <td>GRÖNLID</td>\n",
              "      <td>Crnr sofa-bed, 5-seat w chaise lng, Ljungen li...</td>\n",
              "      <td>110,875</td>\n",
              "      <td>Extra soft</td>\n",
              "    </tr>\n",
              "    <tr>\n",
              "      <th>7</th>\n",
              "      <td>GRÖNLID</td>\n",
              "      <td>Crnr sofa-bed, 5-seat w chaise lng, Ljungen me...</td>\n",
              "      <td>111,675</td>\n",
              "      <td>Extra soft</td>\n",
              "    </tr>\n",
              "  </tbody>\n",
              "</table>\n",
              "</div>"
            ],
            "text/plain": [
              "       name                                            details    price  \\\n",
              "0  ÄLVDALEN                   3-seat sofa-bed, Knisa dark grey   18,995   \n",
              "1  FRIHETEN        Corner sofa-bed with storage, Bomstad black   28,795   \n",
              "2  FRIHETEN        Corner sofa-bed with storage, Skiftebo blue   25,695   \n",
              "3   BÅRSLÖV  3-seat sofa-bed with chaise longue, Tibbleby l...   34,995   \n",
              "4   GRÖNLID  Crnr sofa-bed, 5-seat w chaise lng, Inseros white  107,075   \n",
              "5   GRÖNLID  Crnr sofa-bed, 5-seat w chaise lng, Ljungen li...  111,675   \n",
              "6   GRÖNLID  Crnr sofa-bed, 5-seat w chaise lng, Ljungen li...  110,875   \n",
              "7   GRÖNLID  Crnr sofa-bed, 5-seat w chaise lng, Ljungen me...  111,675   \n",
              "\n",
              "     material  \n",
              "0         NaN  \n",
              "1        Firm  \n",
              "2        Firm  \n",
              "3         NaN  \n",
              "4  Extra soft  \n",
              "5  Extra soft  \n",
              "6  Extra soft  \n",
              "7  Extra soft  "
            ]
          },
          "execution_count": 134,
          "metadata": {},
          "output_type": "execute_result"
        }
      ],
      "source": [
        "df"
      ]
    },
    {
      "cell_type": "code",
      "execution_count": null,
      "id": "2584bc2b",
      "metadata": {
        "id": "2584bc2b"
      },
      "outputs": [],
      "source": []
    }
  ],
  "metadata": {
    "kernelspec": {
      "display_name": "Python 3 (ipykernel)",
      "language": "python",
      "name": "python3"
    },
    "language_info": {
      "codemirror_mode": {
        "name": "ipython",
        "version": 3
      },
      "file_extension": ".py",
      "mimetype": "text/x-python",
      "name": "python",
      "nbconvert_exporter": "python",
      "pygments_lexer": "ipython3",
      "version": "3.12.1"
    },
    "colab": {
      "provenance": [],
      "include_colab_link": true
    }
  },
  "nbformat": 4,
  "nbformat_minor": 5
}